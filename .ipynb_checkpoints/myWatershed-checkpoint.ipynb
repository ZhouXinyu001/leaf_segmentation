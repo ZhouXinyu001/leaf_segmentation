{
 "cells": [
  {
   "cell_type": "code",
   "execution_count": 1,
   "metadata": {},
   "outputs": [],
   "source": [
    "import cv2 as cv\n",
    "import numpy as np\n",
    "import random as rng"
   ]
  },
  {
   "cell_type": "code",
   "execution_count": 2,
   "metadata": {},
   "outputs": [],
   "source": [
    "img_path = \"images/tree_dep_6.png\"\n",
    "mask_path = \"images/tree_dep_6_mask.png\""
   ]
  },
  {
   "cell_type": "code",
   "execution_count": 3,
   "metadata": {},
   "outputs": [],
   "source": [
    "img = cv.imread(img_path)\n",
    "cv.imshow('img', img)\n",
    "# print(np.shape(img))\n",
    "# img = np.zeros((1000,1000,3),np.uint8)"
   ]
  },
  {
   "cell_type": "code",
   "execution_count": 4,
   "metadata": {},
   "outputs": [],
   "source": [
    "mask = cv.imread(mask_path)\n",
    "# cv.imshow('mask', mask)"
   ]
  },
  {
   "cell_type": "code",
   "execution_count": 5,
   "metadata": {},
   "outputs": [],
   "source": [
    "\n",
    "markers = np.zeros((1000,1000),np.int32)\n",
    "for row in range(1000):\n",
    "    for col in range(1000):\n",
    "        if mask[row][col][0] == 255:\n",
    "            markers[row][col] == 0\n",
    "        else:\n",
    "            markers[row][col] = mask[row][col][0]\n",
    "#             print(mask[row][col][0])\n",
    "\n",
    "# mask = np.zeros((1000,1000),np.int32)\n",
    "# print(np.shape(mask))\n",
    "# print (markers)\n",
    "# print(mask)"
   ]
  },
  {
   "cell_type": "code",
   "execution_count": 6,
   "metadata": {},
   "outputs": [
    {
     "name": "stdout",
     "output_type": "stream",
     "text": [
      "False\n",
      "False\n"
     ]
    }
   ],
   "source": [
    "print(1 in markers)\n",
    "# print(type(mask))\n",
    "print(1 in mask)"
   ]
  },
  {
   "cell_type": "code",
   "execution_count": null,
   "metadata": {},
   "outputs": [],
   "source": []
  },
  {
   "cell_type": "code",
   "execution_count": 7,
   "metadata": {},
   "outputs": [
    {
     "data": {
      "text/plain": [
       "array([[ -1,  -1,  -1, ...,  -1,  -1,  -1],\n",
       "       [ -1,   5,   5, ...,  71,  71,  -1],\n",
       "       [ -1,   5,   5, ...,  71,  71,  -1],\n",
       "       ...,\n",
       "       [ -1,  13,  13, ..., 117, 117,  -1],\n",
       "       [ -1,  13,  13, ..., 117, 117,  -1],\n",
       "       [ -1,  -1,  -1, ...,  -1,  -1,  -1]], dtype=int32)"
      ]
     },
     "execution_count": 7,
     "metadata": {},
     "output_type": "execute_result"
    }
   ],
   "source": [
    "cv.watershed(img,markers)"
   ]
  },
  {
   "cell_type": "code",
   "execution_count": 8,
   "metadata": {},
   "outputs": [],
   "source": [
    "# Create the result image\n",
    "dst = np.zeros((markers.shape[0], markers.shape[1], 3), dtype=np.uint8)"
   ]
  },
  {
   "cell_type": "code",
   "execution_count": 9,
   "metadata": {},
   "outputs": [],
   "source": [
    "# colors = {-1: [0,0,0]}\n",
    "# for i in range(7):\n",
    "#     colors[i] = [i*30,i*30,i*30]\n",
    "for i in range(1000):\n",
    "    for j in range(1000):\n",
    "        ch_v = markers[i][j]*251%255\n",
    "        dst[i][j] = [ch_v,ch_v,ch_v]\n",
    "cv.imshow('Final Result', dst)"
   ]
  },
  {
   "cell_type": "code",
   "execution_count": null,
   "metadata": {},
   "outputs": [],
   "source": [
    "cv.imwrite(\"/result/depth_result.png\")"
   ]
  },
  {
   "cell_type": "code",
   "execution_count": null,
   "metadata": {},
   "outputs": [],
   "source": []
  },
  {
   "cell_type": "code",
   "execution_count": 10,
   "metadata": {},
   "outputs": [],
   "source": [
    "cv.waitKey(50)\n",
    "cv.destroyAllWindows()"
   ]
  },
  {
   "cell_type": "code",
   "execution_count": null,
   "metadata": {},
   "outputs": [],
   "source": []
  },
  {
   "cell_type": "code",
   "execution_count": null,
   "metadata": {},
   "outputs": [],
   "source": []
  },
  {
   "cell_type": "code",
   "execution_count": null,
   "metadata": {},
   "outputs": [],
   "source": []
  },
  {
   "cell_type": "code",
   "execution_count": null,
   "metadata": {},
   "outputs": [],
   "source": []
  },
  {
   "cell_type": "code",
   "execution_count": null,
   "metadata": {},
   "outputs": [],
   "source": []
  }
 ],
 "metadata": {
  "kernelspec": {
   "display_name": "Python 3",
   "language": "python",
   "name": "python3"
  },
  "language_info": {
   "codemirror_mode": {
    "name": "ipython",
    "version": 3
   },
   "file_extension": ".py",
   "mimetype": "text/x-python",
   "name": "python",
   "nbconvert_exporter": "python",
   "pygments_lexer": "ipython3",
   "version": "3.6.4"
  }
 },
 "nbformat": 4,
 "nbformat_minor": 2
}
